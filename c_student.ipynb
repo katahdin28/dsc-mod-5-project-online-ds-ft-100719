{
 "cells": [
  {
   "cell_type": "markdown",
   "execution_count": null,
   "metadata": {},
   "outputs": [],
   "source": [
    "## Final Project Submission\n",
    "\n",
    "Please fill out:\n",
    "* Student name: \n",
    "* Student pace: self paced / part time / full time\n",
    "* Scheduled project review date/time: \n",
    "* Instructor name: \n",
    "* Blog post URL:\n"
   ]
  },
  {
   "cell_type": "code",
   "execution_count": 1,
   "metadata": {},
   "outputs": [],
   "source": [
    "bfrom selenium import webdriver \n",
    "from selenium.webdriver.common.by import By \n",
    "from selenium.webdriver.support.ui import WebDriverWait \n",
    "from selenium.webdriver.support import expected_conditions as EC \n",
    "from selenium.common.exceptions import TimeoutException\n",
    "\n",
    "\n",
    "def start_browser(headless = True):\n",
    "    if headless == True:\n",
    "        option = webdriver.ChromeOptions()\n",
    "        option.add_argument('--headless')\n",
    "        browser = webdriver.Chrome(options = option)\n",
    "    else:\n",
    "        browser = webdriver.Chrome()\n",
    "\n",
    "    browser.get('https://www.winespectator.com/auth/login')\n",
    "\n",
    "    username = browser.find_element_by_name(\"userid\")\n",
    "    username.clear()\n",
    "    username.send_keys('johnmkline@gmail.com')\n",
    "\n",
    "    password = browser.find_element_by_name(\"passwd\")\n",
    "    password.clear()\n",
    "    password.send_keys('ohnomoose')\n",
    "\n",
    "    browser.find_element_by_id(\"target\").click()\n",
    "\n",
    "def get_text(sixdigstring):\n",
    "    browser.get(f'https://www.winespectator.com/wine/detail/source/search/note_id/{sixdigstring}')\n",
    "    full_site = browser.find_element_by_class_name(\"main-layout\")\n",
    "    text_string = full_site.text\n",
    "    text_string = text_string[:text_string.find('Add this wine to this Personal Wine List')]\n",
    "    return text_string\n",
    "\n",
    "def iterate_pages(index_list):\n",
    "    index0_num = int(index_list[0])\n",
    "    list_len = len(index_list)\n",
    "    with open(f'raw_reviews_i{index0_num}_l{list_len}.txt','w') as file:\n",
    "        file.write(\"{\")\n",
    "        for string in index_list:\n",
    "            file.write(string+' : '+get_text(string)+\", \")\n",
    "        file.write(\"'end': None}\")\n"
   ]
  },
  {
   "cell_type": "code",
   "execution_count": 1,
   "metadata": {},
   "outputs": [],
   "source": [
    "from itertools import islice\n",
    "\n",
    "\n",
    "def clean_file(filename):\n",
    "    # Open file and strip\n",
    "    with open(filename) as tempfile:\n",
    "        full_file = tempfile.readlines()\n",
    "    full_file = list(map(lambda x: x.strip(), full_file))\n",
    "    \n",
    "    # Check / clean first line\n",
    "    if full_file[0][0] == '{':\n",
    "        full_file[0] = full_file[0][1:]\n",
    "\n",
    "    # Assign webpage content to page_dict\n",
    "    current_page = None\n",
    "    current_linelist = []\n",
    "    for line in full_file:\n",
    "        if line.find(':') >=0:\n",
    "            test = line[0:line.find(':')].strip(',').strip()\n",
    "            if test.isdigit():\n",
    "                if current_page != None:\n",
    "                    consol_page_dict[current_page] = current_linelist\n",
    "                current_linelist = []\n",
    "                \n",
    "                current_page = line[0:line.find(':')]\n",
    "                current_page = current_page.strip(',').strip()\n",
    "                current_linelist.append(line[line.find(':')+1:])\n",
    "            else:\n",
    "                current_linelist.append(line)\n",
    "        else:\n",
    "            current_linelist.append(line)\n",
    "\n",
    "\n"
   ]
  },
  {
   "cell_type": "code",
   "execution_count": 9,
   "metadata": {},
   "outputs": [],
   "source": [
    "def save_object(object,filename):\n",
    "    with open(filename, 'w') as f:\n",
    "        json.dump(object, f)\n",
    "\n",
    "def load_object(filename):\n",
    "    with open(filename, 'r') as f:\n",
    "        data = json.load(f)\n",
    "    return(data)    "
   ]
  },
  {
   "cell_type": "code",
   "execution_count": 3,
   "metadata": {},
   "outputs": [
    {
     "name": "stdout",
     "output_type": "stream",
     "text": "['raw_reviews_0.txt', 'raw_reviews_1.txt', 'raw_reviews_2.txt', 'raw_reviews_3.txt', 'raw_reviews_4.txt', 'raw_reviews_5.txt']\n"
    }
   ],
   "source": [
    "filelist = []\n",
    "for i in range(6):\n",
    "    filelist.append(f'raw_reviews_{i}.txt')\n",
    "print(filelist)"
   ]
  },
  {
   "cell_type": "code",
   "execution_count": 90,
   "metadata": {},
   "outputs": [
    {
     "name": "stdout",
     "output_type": "stream",
     "text": "Keys Completed:  140513\nKeys Remaining:  859486\nYou are  14.05  \"%\" of the way there!\n"
    }
   ],
   "source": [
    "from datetime import datetime\n",
    "import json\n",
    "\n",
    "\n",
    "consol_page_dict = load_object('consol_pages_2020-02-13-16-12.json')\n",
    "\n",
    "for item in filelist:\n",
    "    clean_file(item)\n",
    "\n",
    "save_object(consol_page_dict,'consol_pages_'+datetime.now().strftime(\"%Y-%m-%d-%H-%M\")+'.json')\n",
    "\n",
    "# Updating index remaining tracker\n",
    "keylist = list(consol_page_dict.keys())\n",
    "all_index = []\n",
    "number = 999999\n",
    "for i in range(number):\n",
    "    all_index.append(str(i+1).zfill(6))\n",
    "remaining_index = all_index\n",
    "for item in keylist:\n",
    "    remaining_index.remove(item)\n",
    "save_object(remaining_index,'remaining_index.json')\n",
    "\n",
    "print('Keys Completed: ',len(keylist))\n",
    "print('Keys Remaining: ',len(remaining_index))\n",
    "print('You are ', round(100*len(keylist)/999999,2),' \"%\" of the way there!')"
   ]
  },
  {
   "cell_type": "code",
   "execution_count": 7,
   "metadata": {},
   "outputs": [
    {
     "name": "stdout",
     "output_type": "stream",
     "text": "['036488', '036489', '036490', '036491', '036492', '036493', '036494', '036495', '036496', '036497', '036498', '036499', '036500', '036501', '036502', '036503', '036504', '036505', '036506', '036507', '036508', '036509', '036510', '036511', '036512', '036513', '036514', '036515', '036516', '036517', '036518', '036519', '036520', '036521', '036522', '036523', '036524', '036525', '036526', '036527', '036528', '036529', '036530', '036531', '036532', '036533', '036534', '036535', '036536', '036537', '036538', '036539', '036540', '036541', '036542', '036543', '036544', '036545', '036546', '036547', '036548', '036549', '036550', '036551', '036552', '036553', '036554', '036555', '036556', '036557', '036558', '036559', '036560', '036561', '036562', '036563', '036564', '036565', '036566', '036567', '036568', '036569', '036570', '036571', '036572', '036573', '036574', '036575', '036576', '036577', '036578', '036579', '036580', '036581', '036582', '036583', '036584', '036585', '036586', '036587']\n"
    }
   ],
   "source": [
    "print(remaining_index[0:100])\n"
   ]
  },
  {
   "cell_type": "code",
   "execution_count": 91,
   "metadata": {},
   "outputs": [
    {
     "ename": "KeyError",
     "evalue": "'036498'",
     "output_type": "error",
     "traceback": [
      "\u001b[1;31m---------------------------------------------------------------------------\u001b[0m",
      "\u001b[1;31mKeyError\u001b[0m                                  Traceback (most recent call last)",
      "\u001b[1;32m<ipython-input-91-0132731e1391>\u001b[0m in \u001b[0;36m<module>\u001b[1;34m()\u001b[0m\n\u001b[0;32m      9\u001b[0m \u001b[1;33m\u001b[0m\u001b[0m\n\u001b[0;32m     10\u001b[0m \u001b[1;32mfor\u001b[0m \u001b[0mitem\u001b[0m \u001b[1;32min\u001b[0m \u001b[0mkeylist\u001b[0m\u001b[1;33m:\u001b[0m\u001b[1;33m\u001b[0m\u001b[0m\n\u001b[1;32m---> 11\u001b[1;33m     \u001b[1;32mif\u001b[0m \u001b[0mfull_dict\u001b[0m\u001b[1;33m[\u001b[0m\u001b[0mitem\u001b[0m\u001b[1;33m]\u001b[0m\u001b[1;33m[\u001b[0m\u001b[1;36m0\u001b[0m\u001b[1;33m]\u001b[0m \u001b[1;33m==\u001b[0m \u001b[1;34m' This page is corked.'\u001b[0m\u001b[1;33m:\u001b[0m\u001b[1;33m\u001b[0m\u001b[0m\n\u001b[0m\u001b[0;32m     12\u001b[0m         \u001b[0mcorkcount\u001b[0m\u001b[1;33m+=\u001b[0m\u001b[1;36m1\u001b[0m\u001b[1;33m\u001b[0m\u001b[0m\n\u001b[0;32m     13\u001b[0m         \u001b[0mcorkkeys\u001b[0m\u001b[1;33m.\u001b[0m\u001b[0mappend\u001b[0m\u001b[1;33m(\u001b[0m\u001b[0mitem\u001b[0m\u001b[1;33m)\u001b[0m\u001b[1;33m\u001b[0m\u001b[0m\n",
      "\u001b[1;31mKeyError\u001b[0m: '036498'"
     ]
    }
   ],
   "source": [
    "#full_dict = load_object('consol_pages_2020-02-13-11-35.json')\n",
    "\n",
    "#test_entry = full_dict['044440']\n",
    "\n",
    "#print(type(full_dict))\n",
    "\n",
    "corkcount = 0\n",
    "corkkeys = []\n",
    "\n",
    "for item in keylist:\n",
    "    if full_dict[item][0] == ' This page is corked.':\n",
    "        corkcount+=1\n",
    "        corkkeys.append(item)\n",
    "\n",
    "print(corkcount)\n",
    "print(corkkeys)\n",
    "\n",
    "corkkeys.sort()"
   ]
  },
  {
   "cell_type": "code",
   "execution_count": 82,
   "metadata": {},
   "outputs": [
    {
     "name": "stdout",
     "output_type": "stream",
     "text": "{'keylist': ['095047', '095048', '095049', '095050', '095051', '095052', '095053', '095054'], 'textlist': [[' This page is corked.'], [' This page is corked.'], [' This page is corked.'], [' This page is corked.'], [' This page is corked.'], [' This page is corked.'], [' This page is corked.'], [None, None, None, 'JOSEPH DROUHIN', 'Chablis Sécher 1999', 'Score: 84', 'Release Price $30', 'Country France', 'Region Burgundy', 'Issue May 31, 2001', 'Your Rating', 'You have not yet rated this wine.', 'Tasting Note', 'Some nice ripe fruit shows up in this medium-bodied Chablis--tropical, pear, lemon. Fresh and clean, with a slight mineral edge on the crisp finish. Drink now. — PM']]}\n"
    }
   ],
   "source": [
    "def cork_counter(corkkey):\n",
    "    text_list = test_dict[corkkey]\n",
    "    corkcount = 0    \n",
    "    for item in text_list:\n",
    "        if ' This page is corked.' in item:\n",
    "            corkcount += 1\n",
    "    return corkcount\n",
    "\n",
    "cork_text = [' This page is corked.']\n",
    "\n",
    "def cork_splitter(corkkey):\n",
    "    text_list = test_dict[corkkey]\n",
    "    count = cork_counter(corkkey)\n",
    "\n",
    "    results = {}\n",
    "    results['keylist'] = []\n",
    "    results['textlist'] = []\n",
    "\n",
    "    for i in range(count-1):\n",
    "        key = text_list[1+i*2+1][12:18]\n",
    "        results['keylist'].append(key)\n",
    "        results['textlist'].append(cork_text)\n",
    "\n",
    "    results['keylist'].append(text_list[1+(count-1)*2+1][12:18])\n",
    "    realtext  = []\n",
    "    for i in range(3):\n",
    "        realtext.append(None)\n",
    "    for item in text_list[1+(count-1)*2+4:]:\n",
    "        realtext.append(item)\n",
    "    results['textlist'].append(realtext)\n",
    "    return results\n",
    "\n",
    "print(cork_splitter(corkkeys[100]))"
   ]
  },
  {
   "cell_type": "code",
   "execution_count": 87,
   "metadata": {},
   "outputs": [
    {
     "name": "stdout",
     "output_type": "stream",
     "text": ", 'Médoc 1987', 'Score: 80', 'Release Price $11', 'Country France', 'Region Bordeaux', 'Issue Nov 30, 1989', 'Your Rating', 'You have not yet rated this wine.', 'Tasting Note', '— JS']\n[' This page is corked.', 'The page you have requested does not seem to exist.', 'Return Hom, 013697 : — Ratings —', 'Tasting Note', 'Ratings Ratings Search Daily Picks Tasting Reports Insider Weekly Advance Values Vintage Charts About Our Tastings', 'CHÂTEAU DE LAMARQUE', 'Haut-Médoc 1987', 'Score: 74', 'Release Price $10', 'Country France', 'Region Bordeaux', 'Issue Nov 30, 1989', 'Your Rating', 'You have not yet rated this wine.', 'Tasting Note', '— JS']\n[' This page is corked.', 'The page you have requested does not seem to exist.', 'Return Hom, 013724 : — Ratings —', 'Tasting Note', 'Ratings Ratings Search Daily Picks Tasting Reports Insider Weekly Advance Values Vintage Charts About Our Tastings', 'DROUHIN-LAROZE', 'Bonnes Mares 1987', 'Score: 89', 'Release Price $38', 'Country France', 'Region Burgundy', 'Issue Mar 31, 1990', 'Your Rating', 'You have not yet rated this wine.', 'Tasting Note', \"Lively and appealing, with crisp structure and generous blackberry and strawberry aromas and flavors, revealing its pedigree with a long and elegant finish. Drinkable now, but better to hold onto it until 1993 to '95 to see how it develops. —\"]\n[' This page is corked.', 'The page you have requested does not seem to exist.', 'Return Hom, 013947 : — Ratings —', 'Tasting Note', 'Ratings Ratings Search Daily Picks Tasting Reports Insider Weekly Advance Values Vintage Charts About Our Tastings', 'VALDIVIESO', 'Cabernet Sauvignon Lontué Saint Morillon 1985', 'Score: 75', 'Release Price $4', 'Country Chile', 'Region Curicó', 'Issue Sep 15, 1990', 'Your Rating', 'You have not yet rated this wine.', 'Tasting Note', 'Tastes clean, crisp and fruity, with moderate tannins and smooth texture, yet it remains simple. The plum, carrot and tomato flavors are pretty basic. —']\n[' This page is corked.', 'The page you have requested does not seem to exist.', 'Return Hom, 013977 : — Ratings —', 'Tasting Note', 'Ratings Ratings Search Daily Picks Tasting Reports Insider Weekly Advance Values Vintage Charts About Our Tastings', 'WARRE', 'Vintage Port Quinta da Cavadinha 1979', 'Score: 82', 'Release Price $NA', 'Country Portugal', 'Region Portugal', 'Issue Jul 31, 1990', 'Your Rating', 'You have not yet rated this wine.', 'Tasting Note', 'A lean, sharply focused style of Port, not too sweet, with slightly medicinal flavors of cherry and toast, firm tannins and a bit of a tough finish for a port of the vintage. Needs until 1996 to 2000 to soften. — JS']\n[' This page is corked.', 'The page you have requested does not seem to exist.', 'Return Hom, 014354 : — Ratings —', 'Tasting Note', 'Ratings Ratings Search Daily Picks Tasting Reports Insider Weekly Advance Values Vintage Charts About Our Tastings', 'CHÂTEAU DES FINES ROCHES', 'Châteauneuf-du-Pape 1986', 'Score: 85', 'Release Price $14', 'Country France', 'Region Southern Rhône', 'Issue Sep 30, 1990', 'Your Rating', 'You have not yet rated this wine.', 'Tasting Note', 'Well proportioned, elegant and balanced, with spicy cherry, leather and earth tones that are complex and enticing without being heavy. Dry and peppery on the finish. Drink now. —']\n[' This page is corked.', 'The page you have requested does not seem to exist.', 'Return Hom, 014396 : — Ratings —', 'Tasting Note', 'Ratings Ratings Search Daily Picks Tasting Reports Insider Weekly Advance Values Vintage Charts About Our Tastings', 'GEORGES DUBOEUF', 'Côtes du Rhône 1989', 'Score: 80', 'Release Price $6', 'Country France', 'Region Southern Rhône', 'Issue Oct 15, 1990', 'Designation Best Buy', 'Your Rating', 'You have not yet rated this wine.', 'Tasting Note', \"One of the first Rhônes from this great Beaujolais producer, this is fresh, floral and fruity, like a Beaujolais but with more backbone. It's full of berry flavors, with a hint of vanilla, and backed by solid tannins. Simple but enjoyable. 25,000 cases made. —\"]\n[' This page is corked.', 'The page you have requested does not seem to exist.', 'Return Hom, 015591 : This page is corked.', 'The page you have requested does not seem to exist.', 'Return Hom, 015592 : This page is corked.', 'The page you have requested does not seem to exist.', 'Return Hom, 015593 : — Ratings —', 'Tasting Note', 'Ratings Ratings Search Daily Picks Tasting Reports Insider Weekly Advance Values Vintage Charts About Our Tastings', 'WEGELER-DEINHARD', 'Riesling Kabinett Mosel-Saar-Ruwer Wehlener Sonnenuhr 1989', 'Score: 86', 'Release Price $14', 'Country Germany', 'Region Germany', 'Issue Dec 15, 1990', 'Your Rating', 'You have not yet rated this wine.', 'Tasting Note', '—']\n[' This page is corked.', 'The page you have requested does not seem to exist.', 'Return Hom, 015750 : — Ratings —', 'Tasting Note', 'Ratings Ratings Search Daily Picks Tasting Reports Insider Weekly Advance Values Vintage Charts About Our Tastings', 'DOPFF & IRION', 'Pinot Blanc Alsace 1989', 'Score: 84', 'Release Price $NA', 'Country France', 'Region Alsace', 'Issue Nov 15, 1990', 'Your Rating', 'You have not yet rated this wine.', 'Tasting Note', '—']\n[' This page is corked.', 'The page you have requested does not seem to exist.', 'Return Hom, 015758 : — Ratings —', 'Tasting Note', 'Ratings Ratings Search Daily Picks Tasting Reports Insider Weekly Advance Values Vintage Charts About Our Tastings', 'DOMAINES SCHLUMBERGER', 'Riesling Alsace 1989', 'Score: 86', 'Release Price $NA', 'Country France', 'Region Alsace', 'Issue Nov 15, 1990', 'Your Rating', 'You have not yet rated this wine.', 'Tasting Note', '—']\n[' This page is corked.', 'The page you have requested does not seem to exist.', 'Return Hom, 015760 : — Ratings —', 'Tasting Note', 'Ratings Ratings Search Daily Picks Tasting Reports Insider Weekly Advance Values Vintage Charts About Our Tastings', 'TRIMBACH', 'Riesling Alsace 1989', 'Score: 86', 'Release Price $10', 'Country France', 'Region Alsace', 'Issue Nov 15, 1990', 'Your Rating', 'You have not yet rated this wine.', 'Tasting Note', '—']\n[' This page is corked.', 'The page you have requested does not seem to exist.', 'Return Hom, 015803 : — Ratings —', 'Tasting Note', 'Ratings Ratings Search Daily Picks Tasting Reports Insider Weekly Advance Values Vintage Charts About Our Tastings', 'CLOS PEGASE', 'Hommage California 1987', 'Score: 90', 'Release Price $20', 'Country California', 'Region Other California', 'Issue Aug 31, 1991', 'Designation Highly Recommended', 'Your Rating', 'You have not yet rated this wine.', 'Tasting Note', \"Oak gives this wine intense vanilla flavor, but there are also plenty of ripe plum and currant flavors that are elegant and lively. Not too tannic, it's ready to drink now, or hold until 1998. 1,000 cases made. —\"]\n[' This page is corked.', 'The page you have requested does not seem to exist.', 'Return Hom, 015805 : — Ratings —', 'Tasting Note', 'Ratings Ratings Search Daily Picks Tasting Reports Insider Weekly Advance Values Vintage Charts About Our Tastings', 'HUGEL', 'Gewürztraminer Alsace Vendange Tardive 1989', 'Score: 90', 'Release Price $20', 'Country France', 'Region Alsace', 'Issue Nov 15, 1990', 'Your Rating', 'You have not yet rated this wine.', 'Tasting Note', '—']\n[' This page is corked.', 'The page you have requested does not seem to exist.', 'Return Hom, 015807 : — Ratings —', 'Tasting Note', 'Ratings Ratings Search Daily Picks Tasting Reports Insider Weekly Advance Values Vintage Charts About Our Tastings', 'HUGEL', 'Riesling Alsace Vendange Tardive 1989', 'Score: 90', 'Release Price $NA', 'Country France', 'Region Alsace', 'Issue Nov 15, 1990', 'Your Rating', 'You have not yet rated this wine.', 'Tasting Note', '—']\n[' This page is corked.', 'The page you have requested does not seem to exist.', 'Return Hom, 016067 : This page is corked.', 'The page you have requested does not seem to exist.', 'Return Hom, 016068 : — Ratings —', 'Tasting Note', 'Ratings Ratings Search Daily Picks Tasting Reports Insider Weekly Advance Values Vintage Charts About Our Tastings', 'KUENTZ-BAS', 'Gewürztraminer Alsace Grand Cru Eichberg Vendange Tardive 1989', 'Score: 86', 'Release Price $NA', 'Country France', 'Region Alsace', 'Issue Nov 15, 1990', 'Your Rating', 'You have not yet rated this wine.', 'Tasting Note', '—']\n[' This page is corked.', 'The page you have requested does not seem to exist.', 'Return Hom, 016076 : — Ratings —', 'Tasting Note', 'Ratings Ratings Search Daily Picks Tasting Reports Insider Weekly Advance Values Vintage Charts About Our Tastings', 'LUCIEN ALBRECHT', 'Tokay Pinot Gris Alsace Vendange Tardive 1989', 'Score: 88', 'Release Price $NA', 'Country France', 'Region Alsace', 'Issue Nov 15, 1990', 'Your Rating', 'You have not yet rated this wine.', 'Tasting Note', '—']\n[' This page is corked.', 'The page you have requested does not seem to exist.', 'Return Hom, 016086 : — Ratings —', 'Tasting Note', 'Ratings Ratings Search Daily Picks Tasting Reports Insider Weekly Advance Values Vintage Charts About Our Tastings', 'LUCIEN ALBRECHT', 'Riesling Alsace Pfingstberg Sélection de Grains Nobles 1989', 'Score: 87', 'Release Price $NA', 'Country France', 'Region Alsace', 'Issue Nov 15, 1990', 'Your Rating', 'You have not yet rated this wine.', 'Tasting Note', '—']\n[' This page is corked.', 'The page you have requested does not seem to exist.', 'Return Hom, 016409 : — Ratings —', 'Tasting Note', 'Ratings Ratings Search Daily Picks Tasting Reports Insider Weekly Advance Values Vintage Charts About Our Tastings', 'BEAULIEU VINEYARD', 'Cabernet Sauvignon Napa Valley Georges de Latour Private Reserve 1939', 'Score: 91', 'Release Price $NA', 'Country California', 'Region Napa', 'Issue Mar 31, 1991', 'Your Rating', 'You have not yet rated this wine.', 'Tasting Note', 'Dark color, deep, rich and complex, with intriguing plum and black cherry flavors and subtle oak seasoning. Balanced and complex; better now than in previous tastings. Can still age.--Georges de Latour Private Reserve vertical. Drink now through 1999. — JL']\n[' This page is corked.', 'The page you have requested does not seem to exist.', 'Return Hom, 016456 : — Ratings —', 'Tasting Note', 'Ratings Ratings Search Daily Picks Tasting Reports Insider Weekly Advance Values Vintage Charts About Our Tastings', 'BENZIGER', 'Merlot Sonoma Valley 1987', 'Score: 86', 'Release Price $12', 'Country California', 'Region Sonoma', 'Issue Mar 31, 1991', 'Your Rating', 'You have not yet rated this wine.', 'Tasting Note', 'Distinctively herbal and spicy, but warm and supple on the palate, with ripe black cherry, blackberry, currant and plum flavors that are elegant and fan out. Not too tannic and ready to drink now to 1994. —']\n[' This page is corked.', 'The page you have requested does not seem to exist.', 'Return Hom, 016516 : — Ratings —', 'Tasting Note', 'Ratings Ratings Search Daily Picks Tasting Reports Insider Weekly Advance Values Vintage Charts About Our Tastings', 'WEIBEL', 'Chardonnay Mendocino County 1989', 'Score: 82', 'Release Price $8', 'Country California', 'Region Mendocino/Lake', 'Issue Mar 31, 1991', 'Designation Best Buy', 'Your Rating', 'You have not yet rated this wine.', 'Tasting Note', \"Exotic peach, pineapple and nectarine flavors won't shortchange you on flavor, but they stray from the typical Chardonnay spectrum. The finish is clean and crisp. A complete and satisfying drink. — JL\"]\n[' This page is corked.', 'The page you have requested does not seem to exist.', 'Return Hom, 016553 : — Ratings —', 'Tasting Note', 'Ratings Ratings Search Daily Picks Tasting Reports Insider Weekly Advance Values Vintage Charts About Our Tastings', 'THIERRY GUÉRIN', 'St.-Véran 1989', 'Score: 79', 'Release Price $9', 'Country France', 'Region Burgundy', 'Issue Mar 31, 1991', 'Your Rating', 'You have not yet rated this wine.', 'Tasting Note', 'Despite some earthy aromas, this light, fresh and fruity wine offers some nice touches of pineapple and fig. Drink soon. —']\n[' This page is corked.', 'The page you have requested does not seem to exist.', 'Return Hom, 016754 : — Ratings —', 'Tasting Note', 'Ratings Ratings Search Daily Picks Tasting Reports Insider Weekly Advance Values Vintage Charts About Our Tastings', 'CHÂTEAU CÔTES DES CHARIS', 'Sauvignon Blanc Bordeaux 1990', 'Score: 70', 'Release Price $10', 'Country France', 'Region Bordeaux', 'Issue Jun 15, 1991', 'Your Rating', 'You have not yet rated this wine.', 'Tasting Note', 'Grassy and grapefruity at first, but it turns stale and earthy on the finish. —']\n[' This page is corked.', 'The page you have requested does not seem to exist.', 'Return Hom, 017332 : — Ratings —', 'Tasting Note', 'Ratings Ratings Search Daily Picks Tasting Reports Insider Weekly Advance Values Vintage Charts About Our Tastings', 'BRIDGEHAMPTON', 'Grand Vineyard Reserve North Fork of Long Island 1987', 'Score: 80', 'Release Price $17', 'Country New York', 'Region Long Island', 'Issue Jun 30, 1991', 'Your Rating', 'You have not yet rated this wine.', 'Tasting Note', 'This heavy, slightly clumsy wine may suffer from overly ambitious winemaking. The flavors are ripe and pruny, without much finesse. Cabernet Sauvignon, Merlot and Cabernet Franc. Drink now through 1994. —']\n[' This page is corked.', 'The page you have requested does not seem to exist.', 'Return Hom, 017779 : — Ratings —', 'Tasting Note', 'Ratings Ratings Search Daily Picks Tasting Reports Insider Weekly Advance Values Vintage Charts About Our Tastings', 'EDMUNDS ST. JOHN', 'Les Côtes Sauvages California 1989', 'Score: 79', 'Release Price $19', 'Country California', 'Region Other California', 'Issue Jul 15, 1991', 'Your Rating', 'You have not yet rated this wine.', 'Tasting Note', 'Herbal, earthy cedar, bay leaf and mineral aromas tend to push past the modest fruit in this tough, tannic wine. Try now. —']\n[' This page is corked.', 'The page you have requested does not seem to exist.', 'Return Hom, 017817 : — Ratings —', 'Tasting Note', 'Ratings Ratings Search Daily Picks Tasting Reports Insider Weekly Advance Values Vintage Charts About Our Tastings', 'JOSEPH PHELPS', 'Cabernet Sauvignon Napa Valley 1987', 'Score: 75', 'Release Price $15', 'Country California', 'Region Napa', 'Issue Jul 15, 1991', 'Your Rating', 'You have not yet rated this wine.', 'Tasting Note', 'Herbal, vegetal, gamy aromas and flavors turn murky and unpleasant on the finish. —']\n552\n['000494', '001046', '001216', '001303', '001881', '002057', '002267', '002281', '005353', '006826', '006940', '007419', '007505', '007649', '007886', '008252', '008315', '008640', '008642', '008647', '008650', '009444', '009968', '009989', '010053', '019889', '021444', '021678', '021739', '022142', '022183', '022261', '022359', '022550', '024956', '034770', '034786', '034821', '035331', '036452', '051418', '052912', '053370', '053634', '054770', '055280', '055285', '064542', '068001', '069358', '079522', '080846', '082174', '082885', '083056', '083209', '083240', '083342', '083557', '083623', '083806', '084252', '084458', '084572', '084736', '084943', '085030', '094659', '094666', '094676', '094680', '094689', '094696', '094701', '094703', '094717', '094726', '094743', '094752', '094759', '094761', '094764', '094771', '094773', '094776', '094787', '094800', '094804', '094808', '094814', '094817', '094821', '094823', '094829', '094841', '094846', '094848', '094851', '094903', '094925', '095046', '095059', '095066', '095088', '095094', '095120', '095130', '095155', '095261', '095267', '095283', '095299', '095301', '095309', '095312', '095335', '095344', '095409', '095425', '095433', '095435', '095439', '095453', '095608', '095632', '095641', '095650', '095653', '095660', '095663', '095676', '095684', '095698', '095706', '095765', '095815', '095914', '096088', '096153', '096230', '096243', '096312', '096339', '096383', '096407', '096415', '096422', '096608', '096614', '096682', '096689', '096806', '096856', '096861', '096899', '096944', '096956', '096987', '096994', '097008', '097112', '097114', '097121', '097132', '097141', '097144', '097149', '097186', '097227', '097230', '097234', '097236', '097245', '097256', '097258', '097262', '097265', '097290', '097300', '097304', '097308', '097318', '097334', '097337', '097341', '097349', '097351', '097357', '097360', '097633', '097640', '097651', '097653', '097658', '097665', '097688', '097693', '097702', '097717', '097719', '097722', '097728', '097735', '097740', '097747', '097749', '097754', '097786', '097788', '097798', '097811', '097815', '097839', '097844', '097866', '097877', '097889', '097902', '097915', '097920', '097931', '097954', '097960', '097962', '097968', '097982', '097985', '097988', '097992', '098000', '098010', '098016', '098021', '098085', '098134', '098138', '098141', '098148', '098154', '098156', '098172', '098180', '098184', '098189', '098192', '098195', '098206', '098216', '098224', '098227', '098229', '098239', '098243', '098248', '098250', '098309', '098316', '098386', '098413', '098420', '098423', '098436', '098440', '098444', '098446', '098450', '098463', '098472', '098474', '098477', '098483', '098510', '098557', '098617', '098619', '098625', '098653', '098716', '098734', '098745', '098750', '098756', '098806', '098808', '098844', '098861', '098930', '098939', '098941', '098945', '099010', '099048', '099059', '099087', '099118', '099126', '099130', '099135', '099141', '099164', '099168', '099173', '099183', '099190', '099196', '099198', '099203', '099246', '099291', '099348', '099378', '099455', '099604', '099655', '100236', '100249', '100264', '100269', '100272', '100275', '100283', '100287', '100291', '100343', '100362', '100377', '100381', '100396', '100399', '100402', '100404', '100411', '100413', '100470', '100474', '100510', '100515', '100569', '100606', '100630', '100748', '100781', '100786', '100804', '100808', '100817', '100832', '100838', '100854', '100860', '100863', '100885', '100887', '100893', '100906', '100923', '100927', '100929', '100940', '100944', '100954', '100956', '100967', '100975', '101093', '101096', '109501', '109577', '109583', '109588', '109590', '109705', '109712', '109720', '109741', '109798', '109953', '109957', '109959', '109965', '109993', '110001', '110005', '110155', '110158', '110168', '110184', '110195', '110201', '110206', '110208', '110214', '110216', '110224', '110230', '110233', '110240', '110245', '110249', '110252', '110273', '110276', '110279', '110406', '110478', '110549', '110580', '110596', '110603', '110618', '110636', '110642', '110710', '110720', '110771', '110818', '110830', '111006', '111011', '111021', '111036', '111084', '111093', '111119', '111122', '111150', '111161', '111182', '111234', '111240', '111245', '111285', '111313', '111365', '111409', '111455', '111458', '111463', '111478', '111525', '111543', '111614', '111663', '111675', '111832', '111837', '111878', '111884', '111933', '112078', '112482', '112531', '112590', '112658', '112707', '112833', '112857', '112859', '112973', '112990', '113044', '113511', '113516', '113550', '113552', '113568', '113891', '113920', '113989', '113991', '114329', '114353', '114363', '114381', '114424', '114429', '114464', '114474', '114479', '114496', '114502', '114505', '114508', '114512', '114515', '114557', '114614', '114772', '114778', '114787', '114790', '114792', '114796', '114807', '114820', '114860', '114902', '114923', '114961', '001217', '010308', '010330', '010471', '011276', '011306', '011428', '011445', '011465', '011480', '011490', '011497', '011528', '011553', '011712', '011716', '011836', '011997', '012176', '012194', '012254', '012313', '012642', '012953', '013080', '013086', '013341', '013414', '013665', '013696', '013723', '013946', '013976', '014353', '014395', '015590', '015749', '015757', '015759', '015802', '015804', '015806', '016066', '016075', '016085', '016408', '016455', '016515', '016552', '016753', '017331', '017778', '017816']\n"
    }
   ],
   "source": [
    "test_dict = load_object('consol_pages_2020-01-29-10-17.json')\n",
    "test_keylist = list(test_dict.keys())\n",
    "test_count = 0\n",
    "test_corkkeys = []\n",
    "\n",
    "for item in test_keylist:\n",
    "    if test_dict[item][0] == ' This page is corked.':\n",
    "        test_count+=1\n",
    "        test_corkkeys.append(item)\n",
    "\n",
    "\n",
    "for item in test_corkkeys:\n",
    "    print(test_dict[item])\n",
    "\n",
    "\n",
    "print(test_count)\n",
    "print(test_corkkeys)\n",
    "\n",
    "\n",
    "\n",
    "\n"
   ]
  },
  {
   "cell_type": "code",
   "execution_count": 89,
   "metadata": {},
   "outputs": [
    {
     "ename": "KeyError",
     "evalue": "'0'",
     "output_type": "error",
     "traceback": [
      "\u001b[1;31m---------------------------------------------------------------------------\u001b[0m",
      "\u001b[1;31mKeyError\u001b[0m                                  Traceback (most recent call last)",
      "\u001b[1;32m<ipython-input-89-abbcb5b960c6>\u001b[0m in \u001b[0;36m<module>\u001b[1;34m()\u001b[0m\n\u001b[0;32m      1\u001b[0m \u001b[1;31m#print(test_dict[test_corkkeys[0]])\u001b[0m\u001b[1;33m\u001b[0m\u001b[1;33m\u001b[0m\u001b[0m\n\u001b[0;32m      2\u001b[0m \u001b[1;32mfor\u001b[0m \u001b[0mitem\u001b[0m \u001b[1;32min\u001b[0m \u001b[0mtest_corkkeys\u001b[0m\u001b[1;33m[\u001b[0m\u001b[1;36m0\u001b[0m\u001b[1;33m]\u001b[0m\u001b[1;33m:\u001b[0m\u001b[1;33m\u001b[0m\u001b[0m\n\u001b[1;32m----> 3\u001b[1;33m     \u001b[0mcorkdict\u001b[0m \u001b[1;33m=\u001b[0m \u001b[0mcork_splitter\u001b[0m\u001b[1;33m(\u001b[0m\u001b[0mitem\u001b[0m\u001b[1;33m)\u001b[0m\u001b[1;33m\u001b[0m\u001b[0m\n\u001b[0m\u001b[0;32m      4\u001b[0m     \u001b[1;32mif\u001b[0m \u001b[0mlen\u001b[0m\u001b[1;33m(\u001b[0m\u001b[0mcorkdict\u001b[0m\u001b[1;33m[\u001b[0m\u001b[1;34m'keylist'\u001b[0m\u001b[1;33m]\u001b[0m\u001b[1;33m)\u001b[0m\u001b[1;33m==\u001b[0m\u001b[1;36m1\u001b[0m\u001b[1;33m:\u001b[0m\u001b[1;33m\u001b[0m\u001b[0m\n\u001b[0;32m      5\u001b[0m         \u001b[0mtest_dict\u001b[0m\u001b[1;33m[\u001b[0m\u001b[0mcorkdict\u001b[0m\u001b[1;33m[\u001b[0m\u001b[1;34m'keylist'\u001b[0m\u001b[1;33m]\u001b[0m\u001b[1;33m[\u001b[0m\u001b[1;36m0\u001b[0m\u001b[1;33m]\u001b[0m\u001b[1;33m]\u001b[0m \u001b[1;33m=\u001b[0m \u001b[0mcorkdict\u001b[0m\u001b[1;33m[\u001b[0m\u001b[1;34m'textlist'\u001b[0m\u001b[1;33m]\u001b[0m\u001b[1;33m[\u001b[0m\u001b[1;36m0\u001b[0m\u001b[1;33m]\u001b[0m\u001b[1;33m\u001b[0m\u001b[0m\n",
      "\u001b[1;32m<ipython-input-82-73c2e01519a5>\u001b[0m in \u001b[0;36mcork_splitter\u001b[1;34m(corkkey)\u001b[0m\n\u001b[0;32m     10\u001b[0m \u001b[1;33m\u001b[0m\u001b[0m\n\u001b[0;32m     11\u001b[0m \u001b[1;32mdef\u001b[0m \u001b[0mcork_splitter\u001b[0m\u001b[1;33m(\u001b[0m\u001b[0mcorkkey\u001b[0m\u001b[1;33m)\u001b[0m\u001b[1;33m:\u001b[0m\u001b[1;33m\u001b[0m\u001b[0m\n\u001b[1;32m---> 12\u001b[1;33m     \u001b[0mtext_list\u001b[0m \u001b[1;33m=\u001b[0m \u001b[0mtest_dict\u001b[0m\u001b[1;33m[\u001b[0m\u001b[0mcorkkey\u001b[0m\u001b[1;33m]\u001b[0m\u001b[1;33m\u001b[0m\u001b[0m\n\u001b[0m\u001b[0;32m     13\u001b[0m     \u001b[0mcount\u001b[0m \u001b[1;33m=\u001b[0m \u001b[0mcork_counter\u001b[0m\u001b[1;33m(\u001b[0m\u001b[0mcorkkey\u001b[0m\u001b[1;33m)\u001b[0m\u001b[1;33m\u001b[0m\u001b[0m\n\u001b[0;32m     14\u001b[0m \u001b[1;33m\u001b[0m\u001b[0m\n",
      "\u001b[1;31mKeyError\u001b[0m: '0'"
     ]
    }
   ],
   "source": [
    "#print(test_dict[test_corkkeys[0]])\n",
    "for item in test_corkkeys[0]:\n",
    "    corkdict = cork_splitter(item)\n",
    "    if len(corkdict['keylist'])==1:\n",
    "        test_dict[corkdict['keylist'][0]] = corkdict['textlist'][0]\n",
    "        #put activity here\n",
    "    else:\n",
    "        for i in range(len(corkdict['keylist'])-1):\n",
    "            test_dict[corkdict['keylist'][i]] = corkdict['textlist'][i]\n",
    "        test_dict[corkdict['keylist'][-1]] = corkdict['textlist'][-1]\n",
    "    test_dict[item] = cork_text"
   ]
  },
  {
   "cell_type": "code",
   "execution_count": 36,
   "metadata": {},
   "outputs": [
    {
     "name": "stdout",
     "output_type": "stream",
     "text": "[' — Ratings —', 'Tasting Note', 'Ratings Ratings Search Daily Picks Tasting Reports Insider Weekly Advance Values Vintage Charts About Our Tastings', 'JACQUESSON', 'Brut Champagne Degorge Tardive 1975', 'Score: 90', 'Release Price $NA', 'Country France', 'Region Champagne', 'Issue Dec 31, 1993', 'Your Rating', 'You have not yet rated this wine.', 'Tasting Note', 'A classical example of a very mature Champagne. An old, gentle wine with fine bubbles and smoky, apple, sherry, yeasty, and toasted oak aromas and flavors. Very good acidity still. Drink now. —']\n"
    }
   ],
   "source": [
    "test_entry = full_dict['000001']\n",
    "print(test_entry)"
   ]
  },
  {
   "cell_type": "code",
   "execution_count": 23,
   "metadata": {},
   "outputs": [
    {
     "name": "stdout",
     "output_type": "stream",
     "text": "{'vineyard': 'Jacquesson', 'name': 'Brut Champagne Degorge Tardive', 'year': '1975', 'score': ' 90', 'price': None, 'country': 'France', 'region': 'Champagne', 'review_date': 'Issue Dec 31, 1993', 'taste_note': 'a classical example of a very mature champagne. an old, gentle wine with fine bubbles and smoky, apple, sherry, yeasty, and toasted oak aromas and flavors. very good acidity still. drink now.'}\n"
    }
   ],
   "source": [
    "def clean_basecase(linelist):\n",
    "    # Select for useful rows\n",
    "    relevant = linelist[3:10]\n",
    "    relevant.append(linelist[13])\n",
    "\n",
    "    # Convert to dict\n",
    "    temp_dict = {}\n",
    "\n",
    "    #Vineyard\n",
    "    vineyard = relevant[0].title()\n",
    "    temp_dict['vineyard'] = vineyard\n",
    "\n",
    "    #Name\n",
    "    name = relevant[1].title()[0:-5]\n",
    "    temp_dict['name'] = name\n",
    "\n",
    "    #Year\n",
    "    year = relevant[1][-4:]\n",
    "    temp_dict['year'] = year\n",
    "\n",
    "    #Score\n",
    "    score = relevant[2][-3:]\n",
    "    temp_dict['score'] = score\n",
    "\n",
    "    #Release Price\n",
    "    price = relevant[3][15:]\n",
    "    if price == \"NA\":\n",
    "        price = None\n",
    "    temp_dict['price'] = price\n",
    "\n",
    "    #Country\n",
    "    country = relevant[4].title()[8:]\n",
    "    temp_dict['country'] = country\n",
    "\n",
    "    #Region\n",
    "    region = relevant[5].title()[7:]\n",
    "    temp_dict['region'] = region\n",
    "\n",
    "    #Review Issue\n",
    "    review_date = relevant[6]\n",
    "    temp_dict['review_date'] = review_date\n",
    "\n",
    "    #Tasting Note\n",
    "    taste_note = relevant[7][:-2].lower()\n",
    "    temp_dict['taste_note'] = taste_note\n",
    "\n",
    "    return(temp_dict)\n",
    "\n",
    "print(clean_basecase(test_entry))"
   ]
  },
  {
   "cell_type": "code",
   "execution_count": null,
   "metadata": {},
   "outputs": [],
   "source": []
  }
 ],
 "metadata": {
  "kernelspec": {
   "display_name": "Python 3",
   "language": "python",
   "name": "python3"
  },
  "language_info": {
   "codemirror_mode": {
    "name": "ipython",
    "version": 3
   },
   "file_extension": ".py",
   "mimetype": "text/x-python",
   "name": "python",
   "nbconvert_exporter": "python",
   "pygments_lexer": "ipython3",
   "version": "3.6.6-final"
  }
 },
 "nbformat": 4,
 "nbformat_minor": 2
}