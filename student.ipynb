{
 "cells": [
  {
   "cell_type": "markdown",
   "execution_count": null,
   "metadata": {},
   "outputs": [],
   "source": [
    "## Final Project Submission\n",
    "\n",
    "Please fill out:\n",
    "* Student name: \n",
    "* Student pace: self paced / part time / full time\n",
    "* Scheduled project review date/time: \n",
    "* Instructor name: \n",
    "* Blog post URL:\n"
   ]
  },
  {
   "cell_type": "code",
   "execution_count": null,
   "metadata": {},
   "outputs": [],
   "source": [
    "from selenium import webdriver \n",
    "from selenium.webdriver.common.by import By \n",
    "from selenium.webdriver.support.ui import WebDriverWait \n",
    "from selenium.webdriver.support import expected_conditions as EC \n",
    "from selenium.common.exceptions import TimeoutException\n",
    "import json\n",
    "\n",
    "def start_browser(headless = True)\n",
    "    if headless == True:\n",
    "        option = webdriver.ChromeOptions()\n",
    "        option.add_argument('--headless')\n",
    "        browser = webdriver.Chrome(options = option)\n",
    "    else:\n",
    "        browser = webdriver.Chrome()\n",
    "\n",
    "    browser.get('https://www.winespectator.com/auth/login')\n",
    "\n",
    "    username = browser.find_element_by_name(\"userid\")\n",
    "    username.clear()\n",
    "    username.send_keys('johnmkline@gmail.com')\n",
    "\n",
    "    password = browser.find_element_by_name(\"passwd\")\n",
    "    password.clear()\n",
    "    password.send_keys('ohnomoose')\n",
    "\n",
    "    browser.find_element_by_id(\"target\").click()\n",
    "\n",
    "def get_text(sixdigstring):\n",
    "    browser.get(f'https://www.winespectator.com/wine/detail/source/search/note_id/{sixdigstring}')\n",
    "    full_site = browser.find_element_by_class_name(\"main-layout\")\n",
    "    text_string = full_site.text\n",
    "    text_string = text_string[:text_string.find('Add this wine to this Personal Wine List')]\n",
    "    return text_string\n",
    "\n",
    "def iterate_pages(index_list):\n",
    "    index0_num = int(index_list[0])\n",
    "    list_len = len(index_list)\n",
    "    with open(f'raw_reviews_i{index0_num}_l{list_len}.txt','w') as file:\n",
    "        file.write(\"{\")\n",
    "        for string in index_list:\n",
    "            file.write(string+' : '+get_text(string)+\", \")\n",
    "        file.write(\"'end': None}\")\n"
   ]
  },
  {
   "cell_type": "code",
   "execution_count": null,
   "metadata": {},
   "outputs": [],
   "source": [
    "test_dict = {}\n",
    "test_strings = []\n",
    "index_start = 4692\n",
    "number = 100\n",
    "\n",
    "for i in range(number):\n",
    "    test_strings.append(str(i+1).zfill(6))"
   ]
  },
  {
   "cell_type": "code",
   "execution_count": null,
   "metadata": {},
   "outputs": [],
   "source": [
    "from itertools import islice\n",
    "\n",
    "filelist = ['raw_reviews_test1.txt','raw_reviewsi4501_l15000.txt','raw_reviewsi19501_l15000.txt','raw_reviewsi34501_l15000.txt','raw_reviewsi49501_l15000.txt','raw_reviewsi64501_l15000.txt','raw_reviewsi79501_l15000.txt','raw_reviewsi94501_l15000.txt','raw_reviewsi109501_l15000.txt']\n",
    "\n",
    "def clean_file(filename):\n",
    "    # Open file and strip\n",
    "    with open(filename) as tempfile:\n",
    "        full_file = tempfile.readlines()\n",
    "    full_file = list(map(lambda x: x.strip(), full_file))\n",
    "    \n",
    "    # Check / clean first line\n",
    "    if full_file[0][0] == '{':\n",
    "        full_file[0] = full_file[0][1:]\n",
    "\n",
    "    # Create new dict for capturing pages\n",
    "    page_dict = {}\n",
    "\n",
    "    # Assign webpage content to page_dict\n",
    "    current_page = None\n",
    "    current_linelist = []\n",
    "    for line in full_file:\n",
    "        if line.find(':') >=0:\n",
    "            if current_page != None:\n",
    "                page_dict[current_page] = current_linelist\n",
    "            current_page = line[0:line.find(':')]\n",
    "            current_linelist.append(line[line.find(':'):])\n",
    "        else:\n",
    "            current_linelist.append(line)\n",
    "    \n",
    "    return page_dict\n",
    "\n",
    "print(clean_file(filelist[0]))\n"
   ]
  },
  {
   "cell_type": "code",
   "execution_count": null,
   "metadata": {},
   "outputs": [],
   "source": []
  }
 ],
 "metadata": {
  "kernelspec": {
   "display_name": "Python 3",
   "language": "python",
   "name": "python3"
  },
  "language_info": {
   "codemirror_mode": {
    "name": "ipython",
    "version": 3
   },
   "file_extension": ".py",
   "mimetype": "text/x-python",
   "name": "python",
   "nbconvert_exporter": "python",
   "pygments_lexer": "ipython3",
   "version": "3.6.6-final"
  }
 },
 "nbformat": 4,
 "nbformat_minor": 2
}